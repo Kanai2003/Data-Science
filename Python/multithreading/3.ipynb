{
 "cells": [
  {
   "cell_type": "code",
   "execution_count": 1,
   "metadata": {
    "ExecuteTime": {
     "start_time": "2023-04-13T00:16:54.302432Z",
     "end_time": "2023-04-13T00:16:54.318454Z"
    }
   },
   "outputs": [],
   "source": [
    "import time \n",
    "import threading "
   ]
  },
  {
   "cell_type": "code",
   "execution_count": 2,
   "metadata": {
    "ExecuteTime": {
     "start_time": "2023-04-13T00:16:54.319756Z",
     "end_time": "2023-04-13T00:16:54.327569Z"
    }
   },
   "outputs": [],
   "source": [
    "def test1(id):\n",
    "    for i in range (10):\n",
    "        print(\"test1 %d printing %d %s\" %(id,i,time.ctime()))\n",
    "        time.sleep(1)"
   ]
  },
  {
   "cell_type": "code",
   "execution_count": 3,
   "metadata": {
    "ExecuteTime": {
     "start_time": "2023-04-13T00:16:54.329013Z",
     "end_time": "2023-04-13T00:17:04.465378Z"
    }
   },
   "outputs": [
    {
     "name": "stdout",
     "output_type": "stream",
     "text": [
      "test1 1 printing 0 Thu Apr 13 00:16:54 2023\n",
      "test1 1 printing 1 Thu Apr 13 00:16:55 2023\n",
      "test1 1 printing 2 Thu Apr 13 00:16:56 2023\n",
      "test1 1 printing 3 Thu Apr 13 00:16:57 2023\n",
      "test1 1 printing 4 Thu Apr 13 00:16:58 2023\n",
      "test1 1 printing 5 Thu Apr 13 00:16:59 2023\n",
      "test1 1 printing 6 Thu Apr 13 00:17:00 2023\n",
      "test1 1 printing 7 Thu Apr 13 00:17:01 2023\n",
      "test1 1 printing 8 Thu Apr 13 00:17:02 2023\n",
      "test1 1 printing 9 Thu Apr 13 00:17:03 2023\n"
     ]
    }
   ],
   "source": [
    "test1(1)"
   ]
  },
  {
   "cell_type": "code",
   "execution_count": 4,
   "metadata": {
    "ExecuteTime": {
     "start_time": "2023-04-13T00:17:04.463640Z",
     "end_time": "2023-04-13T00:17:04.472901Z"
    }
   },
   "outputs": [],
   "source": [
    "thr = [ threading.Thread(target=test1, args=(i,)) for i in range (3) ]"
   ]
  },
  {
   "cell_type": "markdown",
   "metadata": {},
   "source": []
  },
  {
   "cell_type": "code",
   "execution_count": 5,
   "metadata": {
    "ExecuteTime": {
     "start_time": "2023-04-13T00:17:04.526270Z",
     "end_time": "2023-04-13T00:17:04.538684Z"
    }
   },
   "outputs": [
    {
     "name": "stdout",
     "output_type": "stream",
     "text": [
      "test1 0 printing 0 Thu Apr 13 00:17:04 2023\n",
      "test1 1 printing 0 Thu Apr 13 00:17:04 2023\n",
      "test1 2 printing 0 Thu Apr 13 00:17:04 2023\n"
     ]
    }
   ],
   "source": [
    "for t in thr :\n",
    "    t.start()"
   ]
  }
 ],
 "metadata": {
  "kernelspec": {
   "display_name": "base",
   "language": "python",
   "name": "python3"
  },
  "language_info": {
   "codemirror_mode": {
    "name": "ipython",
    "version": 3
   },
   "file_extension": ".py",
   "mimetype": "text/x-python",
   "name": "python",
   "nbconvert_exporter": "python",
   "pygments_lexer": "ipython3",
   "version": "3.9.13"
  },
  "orig_nbformat": 4
 },
 "nbformat": 4,
 "nbformat_minor": 2
}
