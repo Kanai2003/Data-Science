{
 "cells": [
  {
   "cell_type": "code",
   "execution_count": 4,
   "metadata": {},
   "outputs": [],
   "source": [
    "import multiprocessing\n"
   ]
  },
  {
   "cell_type": "code",
   "execution_count": 5,
   "metadata": {},
   "outputs": [],
   "source": [
    "# def test():\n",
    "#     print(\"This is my multiprocessing\")\n",
    "\n",
    "# if __name__ == '__main__':\n",
    "#     m = multiprocessing.Process(target=test)\n",
    "#     print(\"this is my main prog\")\n",
    "#     m.start()\n",
    "#     m.join()"
   ]
  },
  {
   "cell_type": "code",
   "execution_count": 6,
   "metadata": {},
   "outputs": [],
   "source": [
    "# test()"
   ]
  },
  {
   "cell_type": "code",
   "execution_count": 7,
   "metadata": {},
   "outputs": [],
   "source": [
    "# def square(n):\n",
    "#     return n**2\n",
    "\n",
    "# if __name__ == '__main__' :\n",
    "#     with multiprocessing.Pool(processes=4) as pool:\n",
    "#         out = pool.map(square, [1,2,3,4,5,6,7,8,9])\n",
    "#         print(out)\n"
   ]
  },
  {
   "cell_type": "code",
   "execution_count": 8,
   "metadata": {},
   "outputs": [],
   "source": [
    "def producer(q):\n",
    "    for i in range (10):\n",
    "        q.put(i)\n",
    "\n",
    "def consume(q):\n",
    "    while True:\n",
    "        item = q.get()\n",
    "        if item is None:\n",
    "            break\n",
    "        print(item)\n",
    "\n",
    "if __name__ == '__main__':\n",
    "    queue = multiprocessing.Queue()\n",
    "    m1 = multiprocessing.Process(target=producer, args= (queue, ))\n",
    "    m2 = multiprocessing.Process(target=consume, args= (queue,) )\n",
    "    m1.start()\n",
    "    m2.start()\n",
    "    queue.put(\"Kanai\")\n",
    "    m1.join()\n",
    "    m2.join()\n"
   ]
  }
 ],
 "metadata": {
  "kernelspec": {
   "display_name": "base",
   "language": "python",
   "name": "python3"
  },
  "language_info": {
   "codemirror_mode": {
    "name": "ipython",
    "version": 3
   },
   "file_extension": ".py",
   "mimetype": "text/x-python",
   "name": "python",
   "nbconvert_exporter": "python",
   "pygments_lexer": "ipython3",
   "version": "3.9.13"
  },
  "orig_nbformat": 4
 },
 "nbformat": 4,
 "nbformat_minor": 2
}
