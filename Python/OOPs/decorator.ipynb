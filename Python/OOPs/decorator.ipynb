{
 "cells": [
  {
   "attachments": {},
   "cell_type": "markdown",
   "metadata": {},
   "source": [
    "we are tracking start and end "
   ]
  },
  {
   "cell_type": "code",
   "execution_count": 1,
   "metadata": {},
   "outputs": [],
   "source": [
    "def test():\n",
    "    print(\"this is start of the func\")\n",
    "    print(\"performing some operations\")\n",
    "    print(\"this is end of the func\")\n"
   ]
  },
  {
   "cell_type": "code",
   "execution_count": 2,
   "metadata": {},
   "outputs": [
    {
     "name": "stdout",
     "output_type": "stream",
     "text": [
      "this is start of the func\n",
      "performing some operations\n",
      "this is end of the func\n"
     ]
    }
   ],
   "source": [
    "test()"
   ]
  },
  {
   "attachments": {},
   "cell_type": "markdown",
   "metadata": {},
   "source": [
    "to track any function we will make a function which will track all the time \n",
    "we will use \"@<decorator_function_name>\""
   ]
  },
  {
   "attachments": {},
   "cell_type": "markdown",
   "metadata": {},
   "source": [
    "this is a decorator function which will print starting and ending of a function"
   ]
  },
  {
   "cell_type": "code",
   "execution_count": 3,
   "metadata": {},
   "outputs": [],
   "source": [
    "def deco(func):\n",
    "    def inner_dac():\n",
    "        print(\"This is the start of the function\")\n",
    "        func()\n",
    "        print(\"this is the end of the function\")\n",
    "    return inner_dac"
   ]
  },
  {
   "cell_type": "code",
   "execution_count": 4,
   "metadata": {},
   "outputs": [],
   "source": [
    "@deco\n",
    "def deco_test():\n",
    "    print(1213*17634*2713615+23654)"
   ]
  },
  {
   "cell_type": "code",
   "execution_count": 5,
   "metadata": {},
   "outputs": [
    {
     "name": "stdout",
     "output_type": "stream",
     "text": [
      "This is the start of the function\n",
      "58044338845484\n",
      "this is the end of the function\n"
     ]
    }
   ],
   "source": [
    "deco_test()"
   ]
  },
  {
   "attachments": {},
   "cell_type": "markdown",
   "metadata": {},
   "source": [
    "now lets make a decorator function which will show starting and ending time and also calculate total exacution time of a function "
   ]
  },
  {
   "cell_type": "code",
   "execution_count": 6,
   "metadata": {},
   "outputs": [],
   "source": [
    "import time\n",
    "def time_test(func):\n",
    "    def time_test_inner():\n",
    "        start = time.time()\n",
    "        func()\n",
    "        end = time.time()\n",
    "        print(\"Execution Time : \",end-start)\n",
    "    return time_test_inner\n"
   ]
  },
  {
   "cell_type": "code",
   "execution_count": 7,
   "metadata": {},
   "outputs": [],
   "source": [
    "@time_test\n",
    "def time_test_func():\n",
    "    print(39457296*985734*293457389)\n",
    "    print(39457296*985734*293457389)\n",
    "    print(39457296*985734*293457389)\n",
    "    print(39457296*985734*293457389)"
   ]
  },
  {
   "cell_type": "code",
   "execution_count": 8,
   "metadata": {},
   "outputs": [
    {
     "name": "stdout",
     "output_type": "stream",
     "text": [
      "11413848546977633385696\n",
      "11413848546977633385696\n",
      "11413848546977633385696\n",
      "11413848546977633385696\n",
      "Execution Time :  0.0009975433349609375\n"
     ]
    }
   ],
   "source": [
    "time_test_func()"
   ]
  },
  {
   "cell_type": "code",
   "execution_count": 9,
   "metadata": {},
   "outputs": [],
   "source": [
    "@time_test\n",
    "def time_test_func2(a,b,c):\n",
    "    if (a>b and a > c):\n",
    "        print(a,\" is largest\")\n",
    "    elif(b > a and b > c):\n",
    "        print(b,\" is largest\")\n",
    "    else:\n",
    "        print(c,\" is largest\")"
   ]
  }
 ],
 "metadata": {
  "kernelspec": {
   "display_name": "base",
   "language": "python",
   "name": "python3"
  },
  "language_info": {
   "codemirror_mode": {
    "name": "ipython",
    "version": 3
   },
   "file_extension": ".py",
   "mimetype": "text/x-python",
   "name": "python",
   "nbconvert_exporter": "python",
   "pygments_lexer": "ipython3",
   "version": "3.9.13"
  },
  "orig_nbformat": 4
 },
 "nbformat": 4,
 "nbformat_minor": 2
}
