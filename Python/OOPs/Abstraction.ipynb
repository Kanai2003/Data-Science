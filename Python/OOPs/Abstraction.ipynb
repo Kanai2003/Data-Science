{
 "cells": [
  {
   "attachments": {},
   "cell_type": "markdown",
   "metadata": {},
   "source": [
    "Here we use \"abc\" to to abstract \n",
    "In Abstract method After inherit a class we can modify/define a methods"
   ]
  },
  {
   "cell_type": "code",
   "execution_count": 1,
   "metadata": {},
   "outputs": [],
   "source": [
    "import abc\n",
    "class student :\n",
    "\n",
    "    @abc.abstractmethod\n",
    "    def details(self):\n",
    "        pass\n",
    "\n",
    "    @abc.abstractmethod\n",
    "    def assignment(self):\n",
    "        pass\n",
    "\n",
    "    @abc.abstractmethod\n",
    "    def marks(self):\n",
    "        pass"
   ]
  },
  {
   "cell_type": "code",
   "execution_count": 2,
   "metadata": {},
   "outputs": [],
   "source": [
    "class data_science(student):\n",
    "    def details(self):\n",
    "        return \"This will return details of a data science student\"\n",
    "    \n",
    "    def assignment(self):\n",
    "        return \"This will return all assignment of a D.Science student\"\n",
    "    \n",
    "    def marks(self):\n",
    "        return \"Return all marks of a D.Science student\""
   ]
  },
  {
   "cell_type": "code",
   "execution_count": 3,
   "metadata": {},
   "outputs": [],
   "source": [
    "class artificial_inteligence(student):\n",
    "    def details(self):\n",
    "        return \"return details of a AI student\"\n",
    "    \n",
    "    def assignment(self):\n",
    "        return \"Return all assignment of a AI student\"\n",
    "    \n",
    "    def marks(self):\n",
    "        return \"Return all marks of a AI student\""
   ]
  }
 ],
 "metadata": {
  "kernelspec": {
   "display_name": "base",
   "language": "python",
   "name": "python3"
  },
  "language_info": {
   "codemirror_mode": {
    "name": "ipython",
    "version": 3
   },
   "file_extension": ".py",
   "mimetype": "text/x-python",
   "name": "python",
   "nbconvert_exporter": "python",
   "pygments_lexer": "ipython3",
   "version": "3.9.13"
  },
  "orig_nbformat": 4
 },
 "nbformat": 4,
 "nbformat_minor": 2
}
