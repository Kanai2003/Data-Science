{
 "cells": [
  {
   "cell_type": "code",
   "execution_count": 5,
   "metadata": {
    "ExecuteTime": {
     "start_time": "2023-04-13T00:15:22.169851Z",
     "end_time": "2023-04-13T00:15:22.308425Z"
    }
   },
   "outputs": [
    {
     "name": "stdout",
     "output_type": "stream",
     "text": [
      "else will be executed once try block will execute without any error \n",
      "finally block will execute itself in any condition \n"
     ]
    }
   ],
   "source": [
    "try:\n",
    "    f = open(\"test.txt\",\"w\")\n",
    "    f.write(\"Writing in this file using python\")\n",
    "    f.close()\n",
    "except Exception as e:\n",
    "    print(e)\n",
    "else:\n",
    "    print(\"else will be executed once try block will execute without any error \")\n",
    "finally:\n",
    "    print(\"finally block will execute itself in any condition \")"
   ]
  },
  {
   "cell_type": "markdown",
   "source": [],
   "metadata": {
    "collapsed": false
   }
  },
  {
   "attachments": {},
   "cell_type": "markdown",
   "metadata": {},
   "source": [
    "now we will do some custom exception handling"
   ]
  },
  {
   "cell_type": "code",
   "execution_count": 6,
   "metadata": {
    "ExecuteTime": {
     "start_time": "2023-04-13T00:15:22.206967Z",
     "end_time": "2023-04-13T00:15:22.328284Z"
    }
   },
   "outputs": [],
   "source": [
    "class validate_age(Exception):\n",
    "    def __init__(self,msg):\n",
    "        self.msg = msg"
   ]
  },
  {
   "cell_type": "code",
   "execution_count": 7,
   "metadata": {
    "ExecuteTime": {
     "start_time": "2023-04-13T00:15:22.224616Z",
     "end_time": "2023-04-13T00:15:22.342187Z"
    }
   },
   "outputs": [],
   "source": [
    "def validate(age):\n",
    "    age = int(age)\n",
    "    if age < 0:\n",
    "        raise validate_age(\"Entered age is negetive \")\n",
    "    elif age > 200:\n",
    "        raise validate_age(\"Entered age is very very high \")\n",
    "    else:\n",
    "        print(\"age is valid \")"
   ]
  },
  {
   "cell_type": "code",
   "execution_count": 8,
   "metadata": {
    "ExecuteTime": {
     "start_time": "2023-04-13T00:15:22.239479Z",
     "end_time": "2023-04-13T00:15:28.328569Z"
    }
   },
   "outputs": [
    {
     "name": "stdout",
     "output_type": "stream",
     "text": [
      "age is valid \n"
     ]
    }
   ],
   "source": [
    "try:\n",
    "    age = int(input(\"Enter your age : \"))\n",
    "    validate(age)\n",
    "except validate_age as e :\n",
    "    print(e)"
   ]
  }
 ],
 "metadata": {
  "kernelspec": {
   "display_name": "base",
   "language": "python",
   "name": "python3"
  },
  "language_info": {
   "codemirror_mode": {
    "name": "ipython",
    "version": 3
   },
   "file_extension": ".py",
   "mimetype": "text/x-python",
   "name": "python",
   "nbconvert_exporter": "python",
   "pygments_lexer": "ipython3",
   "version": "3.9.13"
  },
  "orig_nbformat": 4
 },
 "nbformat": 4,
 "nbformat_minor": 2
}
